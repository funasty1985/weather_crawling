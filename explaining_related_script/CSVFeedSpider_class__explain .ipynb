{
 "cells": [
  {
   "cell_type": "code",
   "execution_count": null,
   "metadata": {},
   "outputs": [],
   "source": [
    "class CSVFeedSpider(Spider):\n",
    "    \"\"\"Spider for parsing CSV feeds.\n",
    "    It receives a CSV file in a response; iterates through each of its rows,\n",
    "    and calls parse_row with a dict containing each field's data.\n",
    "\n",
    "    You can set some options regarding the CSV file, such as the delimiter, quotechar\n",
    "    and the file's headers.\n",
    "    \"\"\"\n",
    "\n",
    "    delimiter = None # When this is None, python's csv module's default delimiter is used\n",
    "    quotechar = None # When this is None, python's csv module's default quotechar is used\n",
    "    headers = None\n",
    "\n",
    "    def process_results(self, response, results):\n",
    "        \"\"\"This method has the same purpose as the one in XMLFeedSpider\"\"\"\n",
    "        return results\n",
    "\n",
    "    def adapt_response(self, response):\n",
    "        \"\"\"This method has the same purpose as the one in XMLFeedSpider\"\"\"\n",
    "        return response\n",
    "\n",
    "    def parse_row(self, response, row):\n",
    "        \"\"\"This method must be overriden with your custom spider functionality\"\"\"\n",
    "        raise NotImplementedError\n",
    "\n",
    "    def parse_rows(self, response):\n",
    "        \"\"\"Receives a response and a dict (representing each row) with a key for\n",
    "        each provided (or detected) header of the CSV file.  This spider also\n",
    "        gives the opportunity to override adapt_response and\n",
    "        process_results methods for pre and post-processing purposes.\n",
    "        \"\"\"\n",
    "        \n",
    "        # csviter return a generator of 'yield dict(zip(headers, row))''\n",
    "        for row in csviter(response, self.delimiter, self.headers, self.quotechar):\n",
    "        # parse_rows extract each 'headers , row ' pairs of the csviters generator and parse_row takes action on each of this pairs \n",
    "            ret = iterate_spider_output(self.parse_row(response, row))\n",
    "            for result_item in self.process_results(response, ret):\n",
    "                yield result_item\n",
    "\n",
    "    # Unlike basic Spider class with a empty parse waiting for being overwritten , CSVFeedSpider's parse is filled \n",
    "    def parse(self, response):\n",
    "        if not hasattr(self, 'parse_row'):\n",
    "            raise NotConfigured('You must define parse_row method in order to scrape this CSV feed')\n",
    "        response = self.adapt_response(response)\n",
    "\n",
    "# ~/environments/web_crawling_env/lib/python2.7/site-packages/scrapy/spiders"
   ]
  }
 ],
 "metadata": {
  "kernelspec": {
   "display_name": "Python 3",
   "language": "python",
   "name": "python3"
  },
  "language_info": {
   "codemirror_mode": {
    "name": "ipython",
    "version": 3
   },
   "file_extension": ".py",
   "mimetype": "text/x-python",
   "name": "python",
   "nbconvert_exporter": "python",
   "pygments_lexer": "ipython3",
   "version": "3.6.5"
  }
 },
 "nbformat": 4,
 "nbformat_minor": 2
}
